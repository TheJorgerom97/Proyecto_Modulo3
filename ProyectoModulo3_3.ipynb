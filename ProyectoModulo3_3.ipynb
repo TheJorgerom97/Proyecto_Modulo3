{
 "cells": [
  {
   "cell_type": "markdown",
   "metadata": {},
   "source": [
    "# Visualización del caos en un péndulo doble"
   ]
  },
  {
   "cell_type": "markdown",
   "metadata": {},
   "source": [
    "## 1.1 Objetivos\n",
    "\n",
    "\n",
    "### Objetivo general\n",
    "\n",
    "* Resolver las ecuaciones y visualizar el caos presentado por modelo mecánico clásico complejo de un péndulo doble. \n",
    "\n",
    "### Objetivos particulares\n",
    "\n",
    "* Utilizar el material visto en clase acerca de la resolución de ecuaciones diferenciales para sistemas de complejidad alta por medio del uso de la librería scipy.integrate módulo odeint.\n",
    "\n",
    "* Observar la evolución que generará un sistema complejo y si concordará con lo que propone la teoría del caos."
   ]
  },
  {
   "cell_type": "markdown",
   "metadata": {},
   "source": [
    "## 1.2 Modelo que representa el problema\n",
    "> - Se debe incluir las ecuaciones dinámicas que modelan el problema (conjunto de ecuaciones diferenciales).\n",
    "> - Deducción del modelo. Explicación usando los fenómenos que involucre el problema (por ejemplo: leyes de Newton, conservación de energía y de materia, capitalización compuesta, etcétera).\n",
    "> - ¿Qué situación representa el modelo? ¿Cuáles son las limitaciones fundamentales?\n",
    "> - Significado y valor de los parámetros (constantes que aparezcan en el modelo)."
   ]
  },
  {
   "cell_type": "markdown",
   "metadata": {},
   "source": [
    "En la naturaleza se encuentran sistemas dinámicos, estos son sistemas que cambian sus propiedades respecto al tiempo por lo que que al tener un estado preciso en un espacio definido se puede plantear como una función de acuerdo a leyes de la mecánica clásica; siendo un conjunto de ecuaciones diferenciales los que pueden describir la evolución de algún observable, como lo es el flujo del ague en una tubería, un péndulo o una masa atada a un resorte, que al tener unas condiciones iniciales preestablecidas se podrá definir como evolucionará determinísticamente ante cada *causa*.\n",
    "\n",
    "> Los sistemas dinámicos se pueden clasificar básicamente en:\n",
    "\n",
    "* Estables: cuando dos soluciones con condiciones iniciales suficientemente cercanas siguen siendo cercanas a lo largo del tiempo. Así, un sistema estable tiende a lo largo del tiempo a un punto, u órbita, según su dimensión (atractor o sumidero).\n",
    "\n",
    "* Inestables, cuando dos soluciones con condiciones iniciales diferentes acaban divergiendo por pequeñas que sean las condiciones iniciales. Así un sistema inestable \"escapa\" de los atractores.\n",
    "\n",
    "* Caóticos, cuando el sistema no es inestable y si bien dos soluciones se mantienen a una distancia \"finita\" cercana a un atractor del sistema dinámico, las soluciones se mueven en torno al atractor de manera irregular y pasado el tiempo ambas soluciones no son cercanas, si bien suelen ser cualitativamente similares. De esa manera, el sistema permanece confinado en una zona de su espacio de estados, pero sin tender a un atractor fijo.\n",
    "\n",
    "> Un atractor es un conjunto de valores numéricos hacia los cuales un sistema tiende a evolucionar, dada una gran variedad de condiciones iniciales en el sistema, este es un subconjunto dentro del espacio fase.\n",
    "\n",
    "Conceptualmente, los sistemas dinámicos lineales serán los que ante un cambio de cierta magnitud en la causa su variación en el efecto es de igual magnitud, mientras que los no lineales ante una pequeña variación en sus condiciones iniciales tendrán un efecto de mucho mayor magnitud en los resultados, pensando que estos sistemas son azarosos, lo cuál es incorrecto; estos sitemas posen un *orden* más complejo llamado **caos**.\n",
    "\n",
    "Los sistemas caóticos será entonces impredecibles al hacer una evolución del tiempo muy lejana o variar sus condiciones iniciales demasiado, alejándose de su *atractor* conforme se aumentan las variaciones, al haber una variación muy significativa se volverá imposible haacer una predicción respecto al punto anterior, ejemplos de estos sistemas son el péndulo doble o la predicción meteorológica.\n",
    "\n",
    "El caos en sí presenta 3 características que lo identifican:\n",
    "\n",
    "1. Movimiento oscilante. Las trayectorias no se ajustan a un punto fijo, órbita periódica u órbita cuasiperiódica cuando el tiempo tiende al infinito.\n",
    "\n",
    "2. Determinismo. El sistema no es azaroso sino determinista. El comportamiento irregular, en dimensión finita, surge de la no linealidad. Por eso se define como determinista.\n",
    "\n",
    "3. Sensibilidad a las condiciones. Las trayectorias que comienzan cerca, con el tiempo se separan exponencialmente. Es decir, condiciones iniciales muy similares acaban dando lugar a comportamientos diferentes pasado un tiempo suficientemente largo.\n",
    "\n",
    "\n",
    "Analizando el movimiento de un péndulo simple, para ángulos pequeños se comporta como un sistema lineal mientras que en el caso del péndulo doble es un sistema no-lineal que presenta mucha diferencia en evolución al variarse un poco sus condiciones iniciales por lo que cumple con las características de un movimiento caótico, sus ecuaciones de movimiento son descritas como dos ecuaciones diferenciales acopladas se presentan a continuación.\n",
    "\n",
    "\n",
    ">Por trigonometría, las coordenadas $x_1$, $x_2$,$y_1$, $y_2$ se enuncian como...\n",
    "\n",
    "$$X_1=L_1\\sin{\\theta_1}$$\n",
    "\n",
    "$$y_1=-L_1\\cos{\\theta_1}$$\n",
    "\n",
    "$$x_2=x_1+L_2\\sin{\\theta_2}$$\n",
    "\n",
    "$$y_2=y_1-L_2\\cos{\\theta_2}$$\n",
    "\n",
    ">La velocidad es la derivada con respecto al tiempo de la posición, por lo tanto...\n",
    "\n",
    "$$\\dot{x_1}=\\dot{\\theta_1}L_1\\cos{\\theta_1}$$\n",
    "\n",
    "$$\\dot{y_1}=\\dot{\\theta_1}L_1\\sin{\\theta_1}$$\n",
    "\n",
    "$$\\dot{x_2}=\\dot{x_1}+\\dot{\\theta_2}L_2\\cos{\\theta_2}$$\n",
    "\n",
    "$$\\dot{y_2}=\\dot{y_1}+\\dot{\\theta_2}L_2\\sin{\\theta_2}$$\n",
    "\n",
    ">Si la aceleración es la segunda derivada...\n",
    "\n",
    "$$\\ddot{x_1}=-\\dot{\\theta_1}^2L_1\\sin{\\theta_1}+\\ddot{\\theta_1}L_1\\cos{\\theta_1}$$\n",
    "\n",
    "$$\\ddot{y_1}=\\dot{\\theta_1}^2L_1\\cos{\\theta_1}+\\ddot{\\theta_1}L_1\\sin{\\theta_1}$$\n",
    "\n",
    "$$\\ddot{x_2}=\\ddot{x_1}-\\dot{\\theta_2}^2L_2\\sin{\\theta_2}+\\ddot{\\theta_2}L_2\\cos{\\theta_2}$$\n",
    "\n",
    "$$\\ddot{y_2}=\\ddot{y_1}-\\dot{\\theta_2}^2L_2\\cos{\\theta_2}+\\ddot{\\theta_2}L_2\\sin{\\theta_2}$$\n",
    "\n",
    ">Al dibujar el diagrama de cuerpo libre y localizar las fuerzas en el sistema, se tiene que...\n",
    "\n",
    ">Utilizando $T$ como la tensión, $m$ como la masa y $g$ como la gravedad, y usando la segunda ley de Newton $F=ma$\n",
    "\n",
    "$$m_1 \\ddot{x_1}= -T_1\\sin{\\theta_1}+T_2\\sin{\\theta_2}$$\n",
    "\n",
    "$$m_1 \\ddot{y_1}= T_1\\cos{\\theta_1}-T_2\\cos{\\theta_2}-m_1 g$$\n",
    "\n",
    ">Para el segundo péndulo,\n",
    "\n",
    "$$m_2 \\ddot{x_2}=-T_2\\sin{\\theta_2}$$\n",
    "\n",
    "$$m_2 \\ddot{y_2}=T_2\\cos{\\theta_2}-m_2 g$$\n",
    "\n",
    "> Manipulando para obtener las expresiones de $\\ddot{\\theta_2}$ y $\\ddot{\\theta_1}$ en función de $\\theta_2$, $\\dot{\\theta_2}$, $\\theta_1$ y $\\dot{\\theta_1}$, se tiene que...\n",
    "\n",
    "$$m_1 \\ddot{x_1}= -T_1\\sin{\\theta_1}-m_2 \\ddot{x_2}$$\n",
    "\n",
    "$$m_1 \\ddot{y_1}= T_1\\cos{\\theta_1}-m_2 \\ddot{y_2}-m_2 g-m_1 g$$\n",
    "\n",
    ">Multiplicando por $\\cos{\\theta_1}$ y $\\sin{\\theta_1}$ las ecuaciones con $T_1$...\n",
    "\n",
    "$$T_1 \\sin{\\theta_1}\\cos{\\theta_1}=-\\cos{\\theta_1} (m_1 \\ddot{x_1}+m_2 \\ddot{x_2})$$\n",
    "\n",
    "$$T_1 \\sin{\\theta_1}\\cos{\\theta_1}=\\sin{\\theta_1} (m_1 \\ddot{y_1}+m_2 \\ddot{y_2}+m_2 g+m_1 g)$$\n",
    "\n",
    ">Conduce a la ecuación:\n",
    "\n",
    "$$\\sin{\\theta} (m_1 \\ddot{y_1}+m_2 \\ddot{y_2}+m_2 g+m_1 g)=-\\cos{\\theta_1} (m_1 \\ddot{x_1}+m_2 \\ddot{x_2})$$\n",
    "\n",
    ">Multiplicando las ecuaciones con $T_2$ por $\\cos{\\theta_2}$ y $\\sin{\\theta_2}$...\n",
    "\n",
    "$$T_2\\sin{\\theta_2}\\cos{\\theta_2}=-\\cos{\\theta_2}(m_2\\ddot{x_2})$$\n",
    "\n",
    "$$T_2\\sin{\\theta_2}\\cos{\\theta_2}=\\sin{\\theta_2}(m_2\\ddot{y_2}+m_2g)$$\n",
    "\n",
    ">Lo que conduce a...\n",
    "\n",
    "$$\\sin{\\theta_2}(m_2\\ddot{y_2}+m_2g)=-\\cos{\\theta_2}(m_2\\ddot{x_2})$$\n",
    "\n",
    "\n",
    "Finalmente, las ecuaciones de movimiento para $\\ddot{\\theta_1}$ y $\\ddot{\\theta_2}$ se enuncian como:\n",
    "\n",
    "$$\\ddot{\\theta_1}=\\frac{-g(2m_1+m_2)\\sin{\\theta_1}-m_2g\\sin{(\\theta_1-2\\theta_2)}-2sin{(\\theta_1-\\theta_2)}m_2(\\dot{\\theta_2}^2L_2+\\dot{\\theta_1}^2L_1\\cos{(\\theta_1-\\theta_2)})}{L_1(2m_1+m_2-m_2\\cos{(2\\theta_1-2\\theta_2)})}$$\n",
    "\n",
    "$$\\ddot{\\theta_2}=\\frac{2\\sin{(\\theta_1-\\theta_2)}(\\dot{\\theta_1}^2L_1(m_1+m_2)+g(m_1+m_2)\\cos{\\theta_1}+\\dot{\\theta_2}^2L_2m_2\\cos{(\\theta_1-\\theta_2)})}{L_2(2m_1+m_2-m_2\\cos{(2\\theta_1-2\\theta_2)})}$$\n",
    "\n",
    "Considerando que $\\dot{\\theta_1}=\\omega_1$ y que $\\dot{\\theta_2}=\\omega_2$, se comienza a resolver la simulación para estas ecuaciones de movimiento."
   ]
  },
  {
   "cell_type": "markdown",
   "metadata": {},
   "source": [
    "## 1.4 Simulaciones"
   ]
  },
  {
   "cell_type": "code",
   "execution_count": 1,
   "metadata": {},
   "outputs": [],
   "source": [
    "import matplotlib.pyplot as plt\n",
    "%matplotlib inline\n",
    "import numpy as np\n",
    "from scipy.integrate import odeint"
   ]
  },
  {
   "cell_type": "code",
   "execution_count": 2,
   "metadata": {},
   "outputs": [],
   "source": [
    "def doblependulo(x,t):\n",
    "    g=9.81\n",
    "    l1=1\n",
    "    l2=1\n",
    "    m1=1\n",
    "    m2=1\n",
    "   \n",
    "    theta1=x[0]\n",
    "    theta2=x[1]\n",
    "    omega1=x[2]\n",
    "    omega2=x[3]\n",
    "    dtheta1=omega1\n",
    "    dtheta2=omega2\n",
    "    domega1=(-g*(2*m1+m2)*np.sin(theta1)-m2*g*np.sin(theta1-2*theta2)-2*np.sin(theta1-theta2)*m2*(omega2**2*l2+omega1**2*l1*np.cos(theta1-theta2)))/(l1*(2*m1+m2-m2*np.cos(2*theta1-2*theta2)))\n",
    "    domega2=(2*np.sin(theta1-theta2)*(omega1**2*l1*(m1+m2)+g*(m1+m2)*np.cos(theta1)+omega2**2*l2*m2*np.cos(theta1-theta2)))/(l2*(2*m1+m2-m2*np.cos(2*theta1-2*theta2)))\n",
    "    return np.array([dtheta1, dtheta2, domega1, domega2])"
   ]
  },
  {
   "cell_type": "code",
   "execution_count": 3,
   "metadata": {},
   "outputs": [],
   "source": [
    "#Condición inicial\n",
    "x0=np.array([np.pi/2,np.pi,0,0])\n",
    "#Vector de tiempo\n",
    "t=np.linspace(0,200,2000)"
   ]
  },
  {
   "cell_type": "code",
   "execution_count": 4,
   "metadata": {},
   "outputs": [],
   "source": [
    "#Solucion al sistema de ecuaciones diferenciales\n",
    "\n",
    "xx=odeint(doblependulo,x0,t)\n",
    "theta1=xx[:,0]\n",
    "theta2=xx[:,1]\n",
    "omega1=xx[:,2]\n",
    "omega2=xx[:,3] \n"
   ]
  },
  {
   "cell_type": "markdown",
   "metadata": {},
   "source": [
    "## 1.5 Visualización de resultados de simulación\n"
   ]
  },
  {
   "cell_type": "code",
   "execution_count": null,
   "metadata": {},
   "outputs": [],
   "source": []
  },
  {
   "cell_type": "code",
   "execution_count": null,
   "metadata": {},
   "outputs": [],
   "source": []
  }
 ],
 "metadata": {
  "kernelspec": {
   "display_name": "Python 3",
   "language": "python",
   "name": "python3"
  },
  "language_info": {
   "codemirror_mode": {
    "name": "ipython",
    "version": 3
   },
   "file_extension": ".py",
   "mimetype": "text/x-python",
   "name": "python",
   "nbconvert_exporter": "python",
   "pygments_lexer": "ipython3",
   "version": "3.7.3"
  }
 },
 "nbformat": 4,
 "nbformat_minor": 2
}
