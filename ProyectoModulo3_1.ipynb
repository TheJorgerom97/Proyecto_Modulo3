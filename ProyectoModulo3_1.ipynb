{
 "cells": [
  {
   "cell_type": "markdown",
   "metadata": {},
   "source": [
    "# Visualización del caos en un péndulo doble"
   ]
  },
  {
   "cell_type": "markdown",
   "metadata": {},
   "source": [
    "## Objetivos\n",
    "\n",
    "\n",
    "### Objetivo general\n",
    "\n",
    "* Resolver las ecuaciones y visualizar el caos presentado por modelo mecánico clásico complejo de un péndulo doble. \n",
    "\n",
    "### Objetivos particulares\n",
    "\n",
    "* Utilizar el material visto en clase acerca de la resolución de ecuaciones diferenciales para sistemas de complejidad alta por medio del uso de la librería scipy.integrate módulo odeint.\n",
    "\n",
    "* Observar la evolución que generará un sistema complejo y si concordará con lo que propone la teoría del caos."
   ]
  },
  {
   "cell_type": "markdown",
   "metadata": {},
   "source": [
    "## 1.3 Modelo que representa el problema\n",
    "> - Se debe incluir las ecuaciones dinámicas que modelan el problema (conjunto de ecuaciones diferenciales).\n",
    "> - Deducción del modelo. Explicación usando los fenómenos que involucre el problema (por ejemplo: leyes de Newton, conservación de energía y de materia, capitalización compuesta, etcétera).\n",
    "> - ¿Qué situación representa el modelo? ¿Cuáles son las limitaciones fundamentales?\n",
    "> - Significado y valor de los parámetros (constantes que aparezcan en el modelo)."
   ]
  }
 ],
 "metadata": {
  "kernelspec": {
   "display_name": "Python 3",
   "language": "python",
   "name": "python3"
  },
  "language_info": {
   "codemirror_mode": {
    "name": "ipython",
    "version": 3
   },
   "file_extension": ".py",
   "mimetype": "text/x-python",
   "name": "python",
   "nbconvert_exporter": "python",
   "pygments_lexer": "ipython3",
   "version": "3.7.3"
  }
 },
 "nbformat": 4,
 "nbformat_minor": 2
}
